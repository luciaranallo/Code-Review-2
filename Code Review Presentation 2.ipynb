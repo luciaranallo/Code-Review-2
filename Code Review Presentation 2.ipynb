{
 "cells": [
  {
   "cell_type": "markdown",
   "id": "35f5d5cd",
   "metadata": {},
   "source": [
    "# Advanced Function and Logic Quiz\n",
    "\n",
    "\n",
    "## Question 1: \n",
    "### Given the following code (assuming it was properly formatted), which functions would you have access to in the console?\n",
    "\n",
    "**a. fun1() only; ie fun1(5) would work** \n",
    "\n",
    "b. fun1() and fun2(); ie both fun1(5) and fun2(5) would work \n",
    "\n",
    "c. fun2() only; ie fun2(5) would work"
   ]
  },
  {
   "cell_type": "code",
   "execution_count": 2,
   "id": "fb3c47cf",
   "metadata": {},
   "outputs": [],
   "source": [
    "def fun1(n):\n",
    "    n = n + 1\n",
    "    def fun2(n):\n",
    "        n = n + 3\n",
    "    return n"
   ]
  },
  {
   "cell_type": "code",
   "execution_count": 3,
   "id": "06dbc7e3",
   "metadata": {},
   "outputs": [
    {
     "data": {
      "text/plain": [
       "6"
      ]
     },
     "execution_count": 3,
     "metadata": {},
     "output_type": "execute_result"
    }
   ],
   "source": [
    "fun1(5)"
   ]
  },
  {
   "cell_type": "code",
   "execution_count": 4,
   "id": "3d605a0a",
   "metadata": {},
   "outputs": [
    {
     "ename": "NameError",
     "evalue": "name 'fun2' is not defined",
     "output_type": "error",
     "traceback": [
      "\u001b[0;31m---------------------------------------------------------------------------\u001b[0m",
      "\u001b[0;31mNameError\u001b[0m                                 Traceback (most recent call last)",
      "\u001b[0;32m/var/folders/fp/mr0bdnzj09vb9z68d9kw00m40000gn/T/ipykernel_49456/2246209505.py\u001b[0m in \u001b[0;36m<module>\u001b[0;34m\u001b[0m\n\u001b[0;32m----> 1\u001b[0;31m \u001b[0mfun2\u001b[0m\u001b[0;34m(\u001b[0m\u001b[0;36m5\u001b[0m\u001b[0;34m)\u001b[0m\u001b[0;34m\u001b[0m\u001b[0;34m\u001b[0m\u001b[0m\n\u001b[0m",
      "\u001b[0;31mNameError\u001b[0m: name 'fun2' is not defined"
     ]
    }
   ],
   "source": [
    "fun2(5)"
   ]
  }
 ],
 "metadata": {
  "kernelspec": {
   "display_name": "Python 3 (ipykernel)",
   "language": "python",
   "name": "python3"
  },
  "language_info": {
   "codemirror_mode": {
    "name": "ipython",
    "version": 3
   },
   "file_extension": ".py",
   "mimetype": "text/x-python",
   "name": "python",
   "nbconvert_exporter": "python",
   "pygments_lexer": "ipython3",
   "version": "3.8.13"
  }
 },
 "nbformat": 4,
 "nbformat_minor": 5
}
